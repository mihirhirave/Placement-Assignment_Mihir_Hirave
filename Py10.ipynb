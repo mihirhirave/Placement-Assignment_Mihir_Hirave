{
 "cells": [
  {
   "cell_type": "markdown",
   "id": "f060b479",
   "metadata": {},
   "source": [
    "Question 10 -\n",
    "Write a program to count the number of verbs, nouns, pronouns, and adjectives in a given particular phrase or\n",
    "paragraph, and return their respective count as a dictionary.\n",
    "\n",
    "Note -\n",
    "\n",
    "1.Write code comments wherever required for code\n",
    "\n",
    "2.You have to write at least 2 additional test cases in which your program will run successfully and provide\n",
    "an explanation for the same."
   ]
  },
  {
   "cell_type": "code",
   "execution_count": 1,
   "id": "1643a26e",
   "metadata": {
    "scrolled": true
   },
   "outputs": [
    {
     "name": "stdout",
     "output_type": "stream",
     "text": [
      "Requirement already satisfied: nltk in c:\\users\\hp\\anaconda3\\lib\\site-packages (3.7)\n",
      "Requirement already satisfied: joblib in c:\\users\\hp\\anaconda3\\lib\\site-packages (from nltk) (1.1.1)\n",
      "Requirement already satisfied: click in c:\\users\\hp\\anaconda3\\lib\\site-packages (from nltk) (8.0.4)\n",
      "Requirement already satisfied: tqdm in c:\\users\\hp\\anaconda3\\lib\\site-packages (from nltk) (4.64.1)\n",
      "Requirement already satisfied: regex>=2021.8.3 in c:\\users\\hp\\anaconda3\\lib\\site-packages (from nltk) (2022.7.9)\n",
      "Requirement already satisfied: colorama in c:\\users\\hp\\anaconda3\\lib\\site-packages (from click->nltk) (0.4.6)\n"
     ]
    }
   ],
   "source": [
    "!pip install nltk"
   ]
  },
  {
   "cell_type": "code",
   "execution_count": null,
   "id": "99be157f",
   "metadata": {},
   "outputs": [],
   "source": [
    "import nltk\n",
    "from nltk.corpus import state_union\n",
    "from nltk.tokenize import PunktSentenceTokenizer\n",
    "\n",
    "def count_pos(text):\n",
    "    # Train the Punkt tokenizer\n",
    "    train_text = state_union.raw(\"2005-GWBush.txt\")\n",
    "    custom_sent_tokenizer = PunktSentenceTokenizer(train_text)\n",
    "\n",
    "    # Tokenize the text\n",
    "    tokenized = custom_sent_tokenizer.tokenize(text)\n",
    "\n",
    "    # Create a dictionary to store the counts\n",
    "    pos_counts = {\"Noun\": 0, \"Verb\": 0, \"Pronoun\": 0, \"Adjective\": 0}\n",
    "\n",
    "    try:\n",
    "        for i in tokenized:\n",
    "            words = nltk.word_tokenize(i)\n",
    "            tagged = nltk.pos_tag(words)\n",
    "\n",
    "            for word, tag in tagged:\n",
    "                if tag.startswith(\"NN\"):\n",
    "                    pos_counts[\"Noun\"] += 1\n",
    "                elif tag.startswith(\"VB\"):\n",
    "                    pos_counts[\"Verb\"] += 1\n",
    "                elif tag.startswith(\"PRP\"):\n",
    "                    pos_counts[\"Pronoun\"] += 1\n",
    "                elif tag.startswith(\"JJ\"):\n",
    "                    pos_counts[\"Adjective\"] += 1\n",
    "\n",
    "    except Exception as e:\n",
    "        print(str(e))\n",
    "\n",
    "    return pos_counts\n",
    "\n",
    "# Test case 1\n",
    "text1 = \"The quick brown fox jumps over the lazy dog.\"\n",
    "result1 = count_pos(text1)\n",
    "print(result1) # {'Noun': 2, 'Verb': 1, 'Pronoun': 0, 'Adjective': 2}\n",
    "\n",
    "# Test case 2\n",
    "text2 = \"I am a student. I study computer science.\"\n",
    "result2 = count_pos(text2)\n",
    "print(result2) # {'Noun': 2, 'Verb': 2, 'Pronoun': 2, 'Adjective': 0}"
   ]
  }
 ],
 "metadata": {
  "kernelspec": {
   "display_name": "Python 3 (ipykernel)",
   "language": "python",
   "name": "python3"
  },
  "language_info": {
   "codemirror_mode": {
    "name": "ipython",
    "version": 3
   },
   "file_extension": ".py",
   "mimetype": "text/x-python",
   "name": "python",
   "nbconvert_exporter": "python",
   "pygments_lexer": "ipython3",
   "version": "3.10.9"
  }
 },
 "nbformat": 4,
 "nbformat_minor": 5
}
